{
 "cells": [
  {
   "cell_type": "code",
   "execution_count": 1,
   "id": "455de2bb",
   "metadata": {},
   "outputs": [],
   "source": [
    "import pandas as pd\n",
    "\n",
    "pop_df = pd.read_csv('~/Pycharmprojects/PredictingPatientReadmission/datasets/Cal_County_Pop_2011-2022.csv')\n",
    "main_df = pd.read_csv('~/Pycharmprojects/PredictingPatientReadmission/datasets/County_RR_By_Income.csv').iloc[:,1:]"
   ]
  },
  {
   "cell_type": "code",
   "execution_count": 2,
   "id": "2df90a34",
   "metadata": {},
   "outputs": [],
   "source": [
    "#Remove county from County Name column so it matches \n",
    "pop_df['County'] = pop_df['County Name'].str.replace('County','',regex=True)\n",
    "pop_df['Year'] = pop_df['Year'].astype(int)\n",
    "pop_df = pop_df.drop('County Name',axis=1)\n",
    "\n",
    "#Strip hidden spaces in the County column\n",
    "pop_df['County'] = pop_df['County'].str.strip()"
   ]
  },
  {
   "cell_type": "code",
   "execution_count": 3,
   "id": "0437be6f",
   "metadata": {},
   "outputs": [
    {
     "data": {
      "text/html": [
       "<div>\n",
       "<style scoped>\n",
       "    .dataframe tbody tr th:only-of-type {\n",
       "        vertical-align: middle;\n",
       "    }\n",
       "\n",
       "    .dataframe tbody tr th {\n",
       "        vertical-align: top;\n",
       "    }\n",
       "\n",
       "    .dataframe thead th {\n",
       "        text-align: right;\n",
       "    }\n",
       "</style>\n",
       "<table border=\"1\" class=\"dataframe\">\n",
       "  <thead>\n",
       "    <tr style=\"text-align: right;\">\n",
       "      <th></th>\n",
       "      <th>Year</th>\n",
       "      <th>County</th>\n",
       "      <th>ICD Version</th>\n",
       "      <th>Total Admits (Consolidated)</th>\n",
       "      <th>30-day Readmits (Consolidated)</th>\n",
       "      <th>30-day Readmission Rate (Consolidated)</th>\n",
       "      <th>PCPI</th>\n",
       "      <th>Population</th>\n",
       "    </tr>\n",
       "  </thead>\n",
       "  <tbody>\n",
       "    <tr>\n",
       "      <th>0</th>\n",
       "      <td>2011</td>\n",
       "      <td>Alameda</td>\n",
       "      <td>ICD-9</td>\n",
       "      <td>75103.0</td>\n",
       "      <td>11377.0</td>\n",
       "      <td>15.1</td>\n",
       "      <td>50432.0</td>\n",
       "      <td>1530893</td>\n",
       "    </tr>\n",
       "    <tr>\n",
       "      <th>1</th>\n",
       "      <td>2011</td>\n",
       "      <td>Alpine</td>\n",
       "      <td>ICD-9</td>\n",
       "      <td>13.0</td>\n",
       "      <td>1.0</td>\n",
       "      <td>7.7</td>\n",
       "      <td>54040.0</td>\n",
       "      <td>1093</td>\n",
       "    </tr>\n",
       "    <tr>\n",
       "      <th>2</th>\n",
       "      <td>2011</td>\n",
       "      <td>Amador</td>\n",
       "      <td>ICD-9</td>\n",
       "      <td>2657.0</td>\n",
       "      <td>345.0</td>\n",
       "      <td>13.0</td>\n",
       "      <td>34847.0</td>\n",
       "      <td>37539</td>\n",
       "    </tr>\n",
       "    <tr>\n",
       "      <th>3</th>\n",
       "      <td>2011</td>\n",
       "      <td>Butte</td>\n",
       "      <td>ICD-9</td>\n",
       "      <td>20422.0</td>\n",
       "      <td>3198.0</td>\n",
       "      <td>15.7</td>\n",
       "      <td>33669.0</td>\n",
       "      <td>219983</td>\n",
       "    </tr>\n",
       "    <tr>\n",
       "      <th>4</th>\n",
       "      <td>2011</td>\n",
       "      <td>Calaveras</td>\n",
       "      <td>ICD-9</td>\n",
       "      <td>3253.0</td>\n",
       "      <td>392.0</td>\n",
       "      <td>12.1</td>\n",
       "      <td>37516.0</td>\n",
       "      <td>45159</td>\n",
       "    </tr>\n",
       "  </tbody>\n",
       "</table>\n",
       "</div>"
      ],
      "text/plain": [
       "   Year     County ICD Version  Total Admits (Consolidated)  \\\n",
       "0  2011    Alameda       ICD-9                      75103.0   \n",
       "1  2011     Alpine       ICD-9                         13.0   \n",
       "2  2011     Amador       ICD-9                       2657.0   \n",
       "3  2011      Butte       ICD-9                      20422.0   \n",
       "4  2011  Calaveras       ICD-9                       3253.0   \n",
       "\n",
       "   30-day Readmits (Consolidated)  30-day Readmission Rate (Consolidated)  \\\n",
       "0                         11377.0                                    15.1   \n",
       "1                             1.0                                     7.7   \n",
       "2                           345.0                                    13.0   \n",
       "3                          3198.0                                    15.7   \n",
       "4                           392.0                                    12.1   \n",
       "\n",
       "      PCPI  Population  \n",
       "0  50432.0     1530893  \n",
       "1  54040.0        1093  \n",
       "2  34847.0       37539  \n",
       "3  33669.0      219983  \n",
       "4  37516.0       45159  "
      ]
     },
     "execution_count": 3,
     "metadata": {},
     "output_type": "execute_result"
    }
   ],
   "source": [
    "# Merge pop_df and main_df on 'Year' and 'County'\n",
    "merged_df = pd.merge(main_df, pop_df, on=['Year', 'County'], how='inner')\n",
    "\n",
    "merged_df.head()"
   ]
  },
  {
   "cell_type": "code",
   "execution_count": 4,
   "id": "79fbfef1",
   "metadata": {},
   "outputs": [],
   "source": [
    "merged_df.to_csv('County_Pop_Income_RR.csv',index=False)"
   ]
  }
 ],
 "metadata": {
  "kernelspec": {
   "display_name": "Python 3 (ipykernel)",
   "language": "python",
   "name": "python3"
  },
  "language_info": {
   "codemirror_mode": {
    "name": "ipython",
    "version": 3
   },
   "file_extension": ".py",
   "mimetype": "text/x-python",
   "name": "python",
   "nbconvert_exporter": "python",
   "pygments_lexer": "ipython3",
   "version": "3.9.13"
  }
 },
 "nbformat": 4,
 "nbformat_minor": 5
}
