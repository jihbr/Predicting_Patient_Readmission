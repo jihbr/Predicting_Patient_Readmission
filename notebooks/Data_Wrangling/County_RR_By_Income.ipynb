{
 "cells": [
  {
   "cell_type": "code",
   "execution_count": 1,
   "id": "71808be3",
   "metadata": {},
   "outputs": [],
   "source": [
    "import pandas as pd\n",
    "\n",
    "rr_df = pd.read_csv('CalHHS_30-Day_Readmission_Rate.csv')\n",
    "pcpi_df = pd.read_csv('PCPI_California_2011_2022.csv')"
   ]
  },
  {
   "cell_type": "code",
   "execution_count": 2,
   "id": "d5e73d1d",
   "metadata": {},
   "outputs": [],
   "source": [
    "#Remove county from County Name column so it matches rr_df\n",
    "pcpi_df['County'] = pcpi_df['County Name'].str.replace('County','',regex=True)\n",
    "pcpi_df['Year'] = pcpi_df['Year'].astype(int)\n",
    "pcpi_df = pcpi_df.drop('County Name',axis=1)"
   ]
  },
  {
   "cell_type": "code",
   "execution_count": 3,
   "id": "4c20723f",
   "metadata": {},
   "outputs": [],
   "source": [
    "#Strip hidden spaces in the County column\n",
    "pcpi_df['County'] = pcpi_df['County'].str.strip()\n",
    "rr_df['County'] = rr_df['County'].str.strip()\n",
    "\n",
    "# Merge pcpi_df and rr_df on 'Year' and 'County'\n",
    "merged_df = pd.merge(rr_df, pcpi_df, on=['Year', 'County'], how='inner')\n"
   ]
  },
  {
   "cell_type": "code",
   "execution_count": 4,
   "id": "e75a1e2d",
   "metadata": {},
   "outputs": [],
   "source": [
    "#Drop irrelevant columns\n",
    "cols_to_drop = ['_id','Strata','Strata Name','Overall','Age','Sex'\n",
    "                ,'Race-Ethnicity','Expected Payer']\n",
    "merged_df = merged_df.drop(cols_to_drop,axis=1)"
   ]
  },
  {
   "cell_type": "code",
   "execution_count": 6,
   "id": "b11df3a0",
   "metadata": {},
   "outputs": [],
   "source": [
    "merged_df.to_csv('County_RR_By_Income.csv')"
   ]
  }
 ],
 "metadata": {
  "kernelspec": {
   "display_name": "Python 3 (ipykernel)",
   "language": "python",
   "name": "python3"
  },
  "language_info": {
   "codemirror_mode": {
    "name": "ipython",
    "version": 3
   },
   "file_extension": ".py",
   "mimetype": "text/x-python",
   "name": "python",
   "nbconvert_exporter": "python",
   "pygments_lexer": "ipython3",
   "version": "3.9.13"
  }
 },
 "nbformat": 4,
 "nbformat_minor": 5
}
